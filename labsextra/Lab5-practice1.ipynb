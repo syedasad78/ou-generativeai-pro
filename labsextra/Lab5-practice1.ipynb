{
 "cells": [
  {
   "cell_type": "code",
   "execution_count": 6,
   "id": "4382a19e-c893-4247-bef1-7c2a404201af",
   "metadata": {},
   "outputs": [
    {
     "name": "stdout",
     "output_type": "stream",
     "text": [
      "Successfully imported libraries and modules\n"
     ]
    }
   ],
   "source": [
    "from pypdf import PdfReader\n",
    "import oracledb\n",
    "import oci\n",
    "from LoadProperties import LoadProperties\n",
    "from langchain.text_splitter import CharacterTextSplitter\n",
    "from langchain_community.vectorstores.oraclevs import OracleVS\n",
    "from langchain_community.embeddings import OCIGenAIEmbeddings\n",
    "from langchain_community.vectorstores.utils import DistanceStrategy\n",
    "from langchain_core.documents import BaseDocumentTransformer, Document\n",
    "\n",
    "print(\"Successfully imported libraries and modules\")"
   ]
  },
  {
   "cell_type": "code",
   "execution_count": 7,
   "id": "ef16b794-c9c3-4238-8edc-0afe7a113477",
   "metadata": {},
   "outputs": [
    {
     "name": "stdout",
     "output_type": "stream",
     "text": [
      "Connection successful!\n"
     ]
    }
   ],
   "source": [
    "# Setup basic variables\n",
    "properties = LoadProperties()\n",
    "\n",
    "# Use Instance Principals for Authentication\n",
    "signer = oci.auth.signers.InstancePrincipalsSecurityTokenSigner()\n",
    "\n",
    "# Declare username and password and dsn (data connection string)\n",
    "un = \"vector\"\n",
    "pw = \"vector\"\n",
    "cs = \"localhost/FREEPDB1\"\n",
    "\n",
    "# Connect to the database\n",
    "try:\n",
    "    conn23c = oracledb.connect(user=un, password=pw, dsn=cs)\n",
    "    print(\"Connection successful!\")\n",
    "except Exception as e:\n",
    "    print(\"Connection failed!\")\n"
   ]
  },
  {
   "cell_type": "code",
   "execution_count": 8,
   "id": "0b6ff86f-f654-479a-adab-1d5f9addbb80",
   "metadata": {},
   "outputs": [
    {
     "name": "stdout",
     "output_type": "stream",
     "text": [
      "You have transformed the PDF document to text format\n"
     ]
    }
   ],
   "source": [
    "# RAG Step 1 - Load the document and create pdf reader object\n",
    "pdf = PdfReader('./pdf-docs/oci-ai-foundations.pdf')\n",
    "\n",
    "# RAG Step 2 - Transform the document to text\n",
    "text = \"\"\n",
    "\n",
    "for page in pdf.pages:\n",
    "    text += page.extract_text()\n",
    "\n",
    "print(\"You have transformed the PDF document to text format\")\n",
    "\n",
    "# RAG Step 3 - Chunk the text document into smaller chunks\n",
    "text_splitter = CharacterTextSplitter(separator=\".\", chunk_size=2000, chunk_overlap=100)\n",
    "chunks = text_splitter.split_text(text)\n"
   ]
  },
  {
   "cell_type": "code",
   "execution_count": 9,
   "id": "eb998691-2d96-47f7-bb53-645ed41a8440",
   "metadata": {},
   "outputs": [],
   "source": [
    "# Function to format and add metadata to Oracle 23ai Vector Store\n",
    "\n",
    "def chunks_to_docs_wrapper(row: dict) -> Document:\n",
    "    \"\"\"\n",
    "    Converts text into a Document object suitable for ingestion into Oracle Vector Store.\n",
    "\n",
    "    - row (dict): A dictionary representing a row of data with keys for 'id', 'link', and 'text'.\n",
    "    \"\"\"\n",
    "    metadata = {'id': row['id'], 'link': row['link']}\n",
    "    return Document(page_content=row['text'], metadata=metadata)\n",
    "\n",
    "\n",
    "# RAG Step 4 - Create metadata wrapper to store additional information in the vector store\n",
    "\"\"\"\n",
    "Converts a row from a DataFrame into a Document object suitable for ingestion into Oracle Vector Store.\n",
    "\n",
    "- row (dict): A dictionary representing a row of data with keys for 'id', 'link', and 'text'.\n",
    "\"\"\"\n",
    "\n",
    "docs = [\n",
    "    chunks_to_docs_wrapper({\n",
    "        'id': str(page_num),\n",
    "        'link': f'Page {page_num}',\n",
    "        'text': text\n",
    "    })\n",
    "    for page_num, text in enumerate(chunks)\n",
    "]\n"
   ]
  },
  {
   "cell_type": "code",
   "execution_count": 10,
   "id": "0259aeff-a4a0-4a7b-b99c-c2c12c689e42",
   "metadata": {},
   "outputs": [
    {
     "name": "stdout",
     "output_type": "stream",
     "text": [
      "Chunks are stored in the DEMO_TABLE\n"
     ]
    }
   ],
   "source": [
    "# RAG Step 5 - Using an embedding model, embed the chunks as vectors into Oracle Database 23ai.\n",
    "\n",
    "embed_model = OCIGenAIEmbeddings(\n",
    "    model_id=properties.getEmbeddingModelName(),\n",
    "    service_endpoint=properties.getEndpoint(),\n",
    "    compartment_id=properties.getCompartment(),\n",
    "    auth_type=\"INSTANCE_PRINCIPAL\",\n",
    ")\n",
    "\n",
    "# RAG Step 6 - Configure the vector store with the model, table name, and using the indicated distance strategy for the similarity search and vectorize the chunks\n",
    "\n",
    "knowledge_base = OracleVS.from_documents(docs, embed_model,\n",
    "    client=conn23c, table_name=\"DEMO_TABLE\",\n",
    "    distance_strategy=DistanceStrategy.DOT_PRODUCT)\n",
    "\n",
    "print(\"Chunks are stored in the DEMO_TABLE\")\n"
   ]
  },
  {
   "cell_type": "code",
   "execution_count": null,
   "id": "c2304fc7-11f3-4662-adf1-11930a92cdc8",
   "metadata": {},
   "outputs": [],
   "source": []
  }
 ],
 "metadata": {
  "kernelspec": {
   "display_name": "Python 3 (ipykernel)",
   "language": "python",
   "name": "python3"
  },
  "language_info": {
   "codemirror_mode": {
    "name": "ipython",
    "version": 3
   },
   "file_extension": ".py",
   "mimetype": "text/x-python",
   "name": "python",
   "nbconvert_exporter": "python",
   "pygments_lexer": "ipython3",
   "version": "3.11.9"
  }
 },
 "nbformat": 4,
 "nbformat_minor": 5
}
