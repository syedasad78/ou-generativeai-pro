{
 "cells": [
  {
   "cell_type": "code",
   "execution_count": 13,
   "id": "c4384412-02d9-4aeb-8419-f3f3a51e0c45",
   "metadata": {},
   "outputs": [],
   "source": [
    "# Import the necessary libraries \n",
    "import oci \n",
    "from LoadProperties import LoadProperties \n",
    "# Setup basic variables \n",
    "properties = LoadProperties()"
   ]
  },
  {
   "cell_type": "code",
   "execution_count": 14,
   "id": "19f3b876-e890-4d9c-8601-22b77058e7f1",
   "metadata": {},
   "outputs": [],
   "source": [
    "# Use Instance Principals for Authentication \n",
    "signer = oci.auth.signers.InstancePrincipalsSecurityTokenSigner() "
   ]
  },
  {
   "cell_type": "code",
   "execution_count": 15,
   "id": "27c67460-f405-4343-adf1-fd613c5aa63b",
   "metadata": {},
   "outputs": [],
   "source": [
    "# Initialize the Generative AI Client \n",
    "generative_ai_inference_client = oci.generative_ai_inference.GenerativeAiInferenceClient( \n",
    "config={}, \n",
    "signer=signer, \n",
    "service_endpoint=properties.getEndpoint(), \n",
    "retry_strategy=oci.retry.NoneRetryStrategy(), \n",
    "timeout=(10, 240) \n",
    ") "
   ]
  },
  {
   "cell_type": "code",
   "execution_count": 16,
   "id": "dfab691d-08c8-4bcd-a961-a45701e30a75",
   "metadata": {},
   "outputs": [],
   "source": [
    "# Set Up Chat Request Details \n",
    "chat_detail = oci.generative_ai_inference.models.ChatDetails() \n",
    "chat_request = oci.generative_ai_inference.models.CohereChatRequest() \n",
    "chat_request.message = \"How does a telescope work\"\n",
    "chat_request.max_tokens = 600 \n",
    "chat_request.temperature = 1 \n",
    "chat_request.frequency_penalty = 0 \n",
    "chat_request.top_p = 0.75 \n",
    "chat_request.top_k = 0 "
   ]
  },
  {
   "cell_type": "code",
   "execution_count": 17,
   "id": "41fa7f76-b393-4041-a81a-7d3be2ba5945",
   "metadata": {},
   "outputs": [],
   "source": [
    "# Configure Chat Details \n",
    "chat_detail.serving_mode = oci.generative_ai_inference.models.OnDemandServingMode(model_id=properties.getModelName()) \n",
    "chat_detail.chat_request = chat_request \n",
    "chat_detail.compartment_id = properties.getCompartment()"
   ]
  },
  {
   "cell_type": "code",
   "execution_count": 18,
   "id": "99029641-7759-45c9-9f55-e25a6e6d098c",
   "metadata": {},
   "outputs": [
    {
     "name": "stdout",
     "output_type": "stream",
     "text": [
      "******************ChatResult******************\n",
      "{'status': 200, 'headers': {'content-type': 'application/json', 'opc-request-id': '49A5871A598347B1B0FC955B0A7E0A4A/EA99EA5379CE69532D0AFA0647356D70/E28C749F89968FC85C143E294C113B96', 'content-encoding': 'gzip', 'content-length': '1248'}, 'data': {\n",
      "  \"chat_response\": {\n",
      "    \"api_format\": \"COHERE\",\n",
      "    \"chat_history\": [\n",
      "      {\n",
      "        \"message\": \"How does a telescope work\",\n",
      "        \"role\": \"USER\"\n",
      "      },\n",
      "      {\n",
      "        \"message\": \"A telescope is an optical instrument designed to make distant objects appear closer and larger, allowing for detailed observation and study. Here's a simplified explanation of how telescopes work:\\n\\n1. Light Collection: The primary function of a telescope is to collect light from a distant object, such as a star, planet, or galaxy. This is achieved through a large, curved lens or a concave mirror at the front end of the telescope, known as the objective lens or primary mirror.\\n\\n2. Focusing the Light: The objective lens or mirror collects and converges the incoming light rays, bringing them to a focus at a specific point. This focused light forms an image of the object being observed.\\n\\n3. Image Formation: In a refracting telescope (using lenses), the focused light passes through a smaller lens called the eyepiece, which further magnifies and projects the image into the observer's eye or onto a detector. In a reflecting telescope (using mirrors), the focused light is reflected by a secondary mirror toward the eyepiece or detector.\\n\\n4. Magnification and Resolution: Telescopes provide two key advantages: magnification and resolution. Magnification increases the apparent size of the object, making it appear larger and more detailed. Resolution, on the other hand, refers to the ability to distinguish fine details and separate closely spaced objects. A larger aperture (the diameter of the objective lens or mirror) results in higher resolution and better image quality.\\n\\n5. Types of Telescopes: There are two main types of telescopes: refracting telescopes and reflecting telescopes. Refracting telescopes use lenses to focus light, while reflecting telescopes use mirrors. Each type has its own advantages and is suitable for different observing purposes.\\n\\n6. Mount and Tracking: Telescopes are often mounted on stable and adjustable stands or tripods to keep them steady during observation. Some telescopes also have tracking mechanisms that allow them to follow the apparent motion of celestial objects across the sky, compensating for the Earth's rotation.\\n\\nBy using these principles, telescopes enable astronomers and enthusiasts to explore the wonders of the universe, study celestial bodies, and uncover fascinating insights about our cosmos.\",\n",
      "        \"role\": \"CHATBOT\",\n",
      "        \"tool_calls\": null\n",
      "      }\n",
      "    ],\n",
      "    \"citations\": null,\n",
      "    \"documents\": null,\n",
      "    \"error_message\": null,\n",
      "    \"finish_reason\": \"COMPLETE\",\n",
      "    \"is_search_required\": null,\n",
      "    \"prompt\": null,\n",
      "    \"search_queries\": null,\n",
      "    \"text\": \"A telescope is an optical instrument designed to make distant objects appear closer and larger, allowing for detailed observation and study. Here's a simplified explanation of how telescopes work:\\n\\n1. Light Collection: The primary function of a telescope is to collect light from a distant object, such as a star, planet, or galaxy. This is achieved through a large, curved lens or a concave mirror at the front end of the telescope, known as the objective lens or primary mirror.\\n\\n2. Focusing the Light: The objective lens or mirror collects and converges the incoming light rays, bringing them to a focus at a specific point. This focused light forms an image of the object being observed.\\n\\n3. Image Formation: In a refracting telescope (using lenses), the focused light passes through a smaller lens called the eyepiece, which further magnifies and projects the image into the observer's eye or onto a detector. In a reflecting telescope (using mirrors), the focused light is reflected by a secondary mirror toward the eyepiece or detector.\\n\\n4. Magnification and Resolution: Telescopes provide two key advantages: magnification and resolution. Magnification increases the apparent size of the object, making it appear larger and more detailed. Resolution, on the other hand, refers to the ability to distinguish fine details and separate closely spaced objects. A larger aperture (the diameter of the objective lens or mirror) results in higher resolution and better image quality.\\n\\n5. Types of Telescopes: There are two main types of telescopes: refracting telescopes and reflecting telescopes. Refracting telescopes use lenses to focus light, while reflecting telescopes use mirrors. Each type has its own advantages and is suitable for different observing purposes.\\n\\n6. Mount and Tracking: Telescopes are often mounted on stable and adjustable stands or tripods to keep them steady during observation. Some telescopes also have tracking mechanisms that allow them to follow the apparent motion of celestial objects across the sky, compensating for the Earth's rotation.\\n\\nBy using these principles, telescopes enable astronomers and enthusiasts to explore the wonders of the universe, study celestial bodies, and uncover fascinating insights about our cosmos.\",\n",
      "    \"tool_calls\": null\n",
      "  },\n",
      "  \"model_id\": \"cohere.command-r-08-2024\",\n",
      "  \"model_version\": \"1.7\"\n",
      "}, 'request': <oci.request.Request object at 0x7ff88421b5d0>, 'next_page': None, 'request_id': '49A5871A598347B1B0FC955B0A7E0A4A/EA99EA5379CE69532D0AFA0647356D70/E28C749F89968FC85C143E294C113B96'}\n"
     ]
    }
   ],
   "source": [
    "# Make the Chat Request and Retrieve the Response \n",
    "chat_response = generative_ai_inference_client.chat(chat_detail) \n",
    "# Print result \n",
    "print(\"******************ChatResult******************\") \n",
    "print(vars(chat_response)) "
   ]
  },
  {
   "cell_type": "code",
   "execution_count": null,
   "id": "518a1d23-607c-4a9e-8428-861570332fc4",
   "metadata": {},
   "outputs": [],
   "source": []
  },
  {
   "cell_type": "code",
   "execution_count": null,
   "id": "573f83a8-3e89-4b25-acc2-7662bcaad49c",
   "metadata": {},
   "outputs": [],
   "source": []
  }
 ],
 "metadata": {
  "kernelspec": {
   "display_name": "Python 3 (ipykernel)",
   "language": "python",
   "name": "python3"
  },
  "language_info": {
   "codemirror_mode": {
    "name": "ipython",
    "version": 3
   },
   "file_extension": ".py",
   "mimetype": "text/x-python",
   "name": "python",
   "nbconvert_exporter": "python",
   "pygments_lexer": "ipython3",
   "version": "3.11.9"
  }
 },
 "nbformat": 4,
 "nbformat_minor": 5
}
