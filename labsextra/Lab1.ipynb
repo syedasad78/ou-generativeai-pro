{
 "cells": [
  {
   "cell_type": "code",
   "execution_count": 11,
   "id": "c4384412-02d9-4aeb-8419-f3f3a51e0c45",
   "metadata": {},
   "outputs": [],
   "source": [
    "# Import the necessary libraries \n",
    "import oci \n",
    "from LoadProperties import LoadProperties \n",
    "# Setup basic variables \n",
    "properties = LoadProperties()"
   ]
  },
  {
   "cell_type": "code",
   "execution_count": 2,
   "id": "19f3b876-e890-4d9c-8601-22b77058e7f1",
   "metadata": {},
   "outputs": [],
   "source": [
    "# Use Instance Principals for Authentication \n",
    "signer = oci.auth.signers.InstancePrincipalsSecurityTokenSigner() "
   ]
  },
  {
   "cell_type": "code",
   "execution_count": 3,
   "id": "27c67460-f405-4343-adf1-fd613c5aa63b",
   "metadata": {},
   "outputs": [],
   "source": [
    "# Initialize the Generative AI Client \n",
    "generative_ai_inference_client = oci.generative_ai_inference.GenerativeAiInferenceClient( \n",
    "config={}, \n",
    "signer=signer, \n",
    "service_endpoint=properties.getEndpoint(), \n",
    "retry_strategy=oci.retry.NoneRetryStrategy(), \n",
    "timeout=(10, 240) \n",
    ") "
   ]
  },
  {
   "cell_type": "code",
   "execution_count": 8,
   "id": "dfab691d-08c8-4bcd-a961-a45701e30a75",
   "metadata": {},
   "outputs": [],
   "source": [
    "# Set Up Chat Request Details \n",
    "chat_detail = oci.generative_ai_inference.models.ChatDetails() \n",
    "chat_request = oci.generative_ai_inference.models.CohereChatRequest() \n",
    "chat_request.message = \"How does a microscope work\"\n",
    "chat_request.max_tokens = 600 \n",
    "chat_request.temperature = 1 \n",
    "chat_request.frequency_penalty = 0 \n",
    "chat_request.top_p = 0.75 \n",
    "chat_request.top_k = 0 "
   ]
  },
  {
   "cell_type": "code",
   "execution_count": 9,
   "id": "41fa7f76-b393-4041-a81a-7d3be2ba5945",
   "metadata": {},
   "outputs": [],
   "source": [
    "# Configure Chat Details \n",
    "chat_detail.serving_mode = oci.generative_ai_inference.models.OnDemandServingMode(model_id=properties.getModelName()) \n",
    "chat_detail.chat_request = chat_request \n",
    "chat_detail.compartment_id = properties.getCompartment()"
   ]
  },
  {
   "cell_type": "code",
   "execution_count": 10,
   "id": "99029641-7759-45c9-9f55-e25a6e6d098c",
   "metadata": {},
   "outputs": [
    {
     "name": "stdout",
     "output_type": "stream",
     "text": [
      "******************ChatResult******************\n",
      "{'status': 200, 'headers': {'content-type': 'application/json', 'opc-request-id': '8C2B1D752A58437FB03814E9A4860F0B/FCC7B33743CE03BF12BA6C4263255BE4/964CB2CA116D87F7056535EAB067C435', 'content-encoding': 'gzip', 'content-length': '1334'}, 'data': {\n",
      "  \"chat_response\": {\n",
      "    \"api_format\": \"COHERE\",\n",
      "    \"chat_history\": [\n",
      "      {\n",
      "        \"message\": \"How does a microscope work\",\n",
      "        \"role\": \"USER\"\n",
      "      },\n",
      "      {\n",
      "        \"message\": \"A microscope is an optical instrument that uses a series of lenses to magnify and produce an enlarged image of a small object or specimen, allowing us to observe details that are not visible to the naked eye. Here's a simplified explanation of how a microscope works:\\n\\n1. Sample Preparation: To examine a specimen under a microscope, it is typically placed on a glass slide and secured with a cover slip. The sample can be a small piece of tissue, a drop of liquid, or even a prepared slide with a fixed and stained specimen.\\n\\n2. Light Source: Microscopes have a built-in light source, usually located below the stage (the platform where the slide is placed). This light illuminates the specimen, making it visible. The light can be adjusted to control the brightness and focus.\\n\\n3. Objective Lenses: The objective lenses are the lenses closest to the specimen. Microscopes typically have multiple objective lenses of different magnifications, which can be rotated into position using a rotating nosepiece. These lenses collect and focus the light coming from the specimen.\\n\\n4. Ocular Lens (Eyepiece): The ocular lens, or eyepiece, is the lens at the top of the microscope that you look through. It further magnifies the image produced by the objective lens, allowing you to see the specimen in greater detail.\\n\\n5. Magnification: The total magnification of the image is determined by the combination of the objective lens and the ocular lens. For example, if you are using a 10x objective lens and a 10x ocular lens, the total magnification would be 100x.\\n\\n6. Image Formation: When light passes through the specimen and is focused by the objective lens, it forms a real image, which is then further magnified by the ocular lens. This magnified image is what you see when looking through the microscope.\\n\\n7. Adjustment and Focus: Microscopes have focusing knobs that allow you to adjust the distance between the objective lens and the specimen, ensuring that the image is sharp and clear.\\n\\n8. Types of Microscopes: There are various types of microscopes, including brightfield, darkfield, phase contrast, fluorescence, and electron microscopes, each designed for specific applications and levels of magnification.\\n\\nMicroscopes are essential tools in fields such as biology, medicine, forensic science, and materials science, enabling researchers and scientists to study and analyze microscopic structures and organisms.\",\n",
      "        \"role\": \"CHATBOT\",\n",
      "        \"tool_calls\": null\n",
      "      }\n",
      "    ],\n",
      "    \"citations\": null,\n",
      "    \"documents\": null,\n",
      "    \"error_message\": null,\n",
      "    \"finish_reason\": \"COMPLETE\",\n",
      "    \"is_search_required\": null,\n",
      "    \"prompt\": null,\n",
      "    \"search_queries\": null,\n",
      "    \"text\": \"A microscope is an optical instrument that uses a series of lenses to magnify and produce an enlarged image of a small object or specimen, allowing us to observe details that are not visible to the naked eye. Here's a simplified explanation of how a microscope works:\\n\\n1. Sample Preparation: To examine a specimen under a microscope, it is typically placed on a glass slide and secured with a cover slip. The sample can be a small piece of tissue, a drop of liquid, or even a prepared slide with a fixed and stained specimen.\\n\\n2. Light Source: Microscopes have a built-in light source, usually located below the stage (the platform where the slide is placed). This light illuminates the specimen, making it visible. The light can be adjusted to control the brightness and focus.\\n\\n3. Objective Lenses: The objective lenses are the lenses closest to the specimen. Microscopes typically have multiple objective lenses of different magnifications, which can be rotated into position using a rotating nosepiece. These lenses collect and focus the light coming from the specimen.\\n\\n4. Ocular Lens (Eyepiece): The ocular lens, or eyepiece, is the lens at the top of the microscope that you look through. It further magnifies the image produced by the objective lens, allowing you to see the specimen in greater detail.\\n\\n5. Magnification: The total magnification of the image is determined by the combination of the objective lens and the ocular lens. For example, if you are using a 10x objective lens and a 10x ocular lens, the total magnification would be 100x.\\n\\n6. Image Formation: When light passes through the specimen and is focused by the objective lens, it forms a real image, which is then further magnified by the ocular lens. This magnified image is what you see when looking through the microscope.\\n\\n7. Adjustment and Focus: Microscopes have focusing knobs that allow you to adjust the distance between the objective lens and the specimen, ensuring that the image is sharp and clear.\\n\\n8. Types of Microscopes: There are various types of microscopes, including brightfield, darkfield, phase contrast, fluorescence, and electron microscopes, each designed for specific applications and levels of magnification.\\n\\nMicroscopes are essential tools in fields such as biology, medicine, forensic science, and materials science, enabling researchers and scientists to study and analyze microscopic structures and organisms.\",\n",
      "    \"tool_calls\": null\n",
      "  },\n",
      "  \"model_id\": \"cohere.command-r-08-2024\",\n",
      "  \"model_version\": \"1.7\"\n",
      "}, 'request': <oci.request.Request object at 0x7fae051c7ad0>, 'next_page': None, 'request_id': '8C2B1D752A58437FB03814E9A4860F0B/FCC7B33743CE03BF12BA6C4263255BE4/964CB2CA116D87F7056535EAB067C435'}\n"
     ]
    }
   ],
   "source": [
    "# Make the Chat Request and Retrieve the Response \n",
    "chat_response = generative_ai_inference_client.chat(chat_detail) \n",
    "# Print result \n",
    "print(\"******************ChatResult******************\") \n",
    "print(vars(chat_response)) "
   ]
  }
 ],
 "metadata": {
  "kernelspec": {
   "display_name": "Python 3 (ipykernel)",
   "language": "python",
   "name": "python3"
  },
  "language_info": {
   "codemirror_mode": {
    "name": "ipython",
    "version": 3
   },
   "file_extension": ".py",
   "mimetype": "text/x-python",
   "name": "python",
   "nbconvert_exporter": "python",
   "pygments_lexer": "ipython3",
   "version": "3.11.9"
  }
 },
 "nbformat": 4,
 "nbformat_minor": 5
}
