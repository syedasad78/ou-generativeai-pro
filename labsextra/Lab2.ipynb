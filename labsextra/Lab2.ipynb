{
 "cells": [
  {
   "cell_type": "code",
   "execution_count": 5,
   "id": "65822e12-6fc4-4744-96cb-39317fe3c485",
   "metadata": {},
   "outputs": [],
   "source": [
    "# Import the necessary libraries \n",
    "import oci \n",
    "from LoadProperties import LoadProperties \n",
    "# Setup basic variables \n",
    "properties = LoadProperties() "
   ]
  },
  {
   "cell_type": "code",
   "execution_count": 6,
   "id": "8de2ac50-a2de-4db4-adb2-1fbda5a10296",
   "metadata": {},
   "outputs": [],
   "source": [
    "# Use Instance Principals for Authentication \n",
    "signer = oci.auth.signers.InstancePrincipalsSecurityTokenSigner() "
   ]
  },
  {
   "cell_type": "code",
   "execution_count": 7,
   "id": "87565b64-8c6d-4a70-9a2b-135ed0025e7c",
   "metadata": {},
   "outputs": [],
   "source": [
    "# Initialize the Generative AI Client \n",
    "generative_ai_inference_client = oci.generative_ai_inference.GenerativeAiInferenceClient( \n",
    "config={}, \n",
    "signer=signer, \n",
    "service_endpoint=properties.getEndpoint(), \n",
    "retry_strategy=oci.retry.NoneRetryStrategy(), \n",
    "timeout=(10, 240) \n",
    ") "
   ]
  },
  {
   "cell_type": "code",
   "execution_count": null,
   "id": "416ec84e-d346-4786-9be3-3e45288a49b5",
   "metadata": {},
   "outputs": [],
   "source": [
    "# Set up Embedding Request \n",
    "# inputs = [\\What is the capital of France?\\] \n",
    "inputs = [\\France\\] \n",
    "embed_text_detail = oci.generative_ai_inference.models.EmbedTextDetails() \n",
    "embed_text_detail.serving_mode = oci.generative_ai_inference.models.OnDemandServingMode( \n",
    "model_id=properties.getEmbeddingModelName() \n",
    ") \n",
    "embed_text_detail.inputs = inputs \n",
    "embed_text_detail.truncate = \"NONE\"\n",
    "embed_text_detail.compartment_id = properties.getCompartment() "
   ]
  },
  {
   "cell_type": "code",
   "execution_count": null,
   "id": "e8b13057-e9f7-46fd-af9e-75c0fd88390f",
   "metadata": {},
   "outputs": [],
   "source": [
    "# Make the Embedding Request and Retrieve the Response \n",
    "embed_text_response = \n",
    "generative_ai_inference_client.embed_text(embed_text_detail) \n",
    "# Print result \n",
    "print(\"******************Embed Texts Result******************) \n",
    "print(embed_text_response.data) "
   ]
  }
 ],
 "metadata": {
  "kernelspec": {
   "display_name": "Python 3 (ipykernel)",
   "language": "python",
   "name": "python3"
  },
  "language_info": {
   "codemirror_mode": {
    "name": "ipython",
    "version": 3
   },
   "file_extension": ".py",
   "mimetype": "text/x-python",
   "name": "python",
   "nbconvert_exporter": "python",
   "pygments_lexer": "ipython3",
   "version": "3.11.9"
  }
 },
 "nbformat": 4,
 "nbformat_minor": 5
}
