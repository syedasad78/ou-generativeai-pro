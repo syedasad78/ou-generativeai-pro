{
 "cells": [
  {
   "cell_type": "code",
   "execution_count": 1,
   "id": "ed88a519-e181-4e87-92bc-4d93317374aa",
   "metadata": {},
   "outputs": [],
   "source": [
    "table_name = 'faqs'\n",
    "topK = 3\n",
    "\n",
    "sql = f\"\"\"\n",
    "select payload, vector_distance(vector, :vector, COSINE) as score\n",
    "from {table_name}\n",
    "order by score\n",
    "fetch approx first {topK} rows only\n",
    "\"\"\"\n"
   ]
  },
  {
   "cell_type": "code",
   "execution_count": 2,
   "id": "e6bcbda3-3bd7-430e-a2dd-5704b7cd229c",
   "metadata": {},
   "outputs": [],
   "source": [
    "# Define the query\n",
    "question = 'What is Always Free?'"
   ]
  },
  {
   "cell_type": "code",
   "execution_count": 3,
   "id": "ef71a8a4-e84c-402a-aaef-aac08e63ddbe",
   "metadata": {},
   "outputs": [],
   "source": [
    "# Connect to the Oracle Database 23ai\n",
    "un = \"vector\"\n",
    "pw = \"vector\"\n",
    "cs = \"localhost/FREEPDB1\"\n",
    "\n",
    "import oracledb\n",
    "\n",
    "connection = oracledb.connect(user=un, password=pw, dsn=cs)\n"
   ]
  },
  {
   "cell_type": "code",
   "execution_count": 4,
   "id": "a169829b-8730-40bf-bb70-9e896c7a0448",
   "metadata": {},
   "outputs": [
    {
     "name": "stderr",
     "output_type": "stream",
     "text": [
      "/home/opc/.pyenv/versions/3.11.9/lib/python3.11/site-packages/tqdm/auto.py:21: TqdmWarning: IProgress not found. Please update jupyter and ipywidgets. See https://ipywidgets.readthedocs.io/en/stable/user_install.html\n",
      "  from .autonotebook import tqdm as notebook_tqdm\n"
     ]
    }
   ],
   "source": [
    "from sentence_transformers import SentenceTransformer\n",
    "encoder = SentenceTransformer('all-MiniLM-L12-v2')\n"
   ]
  },
  {
   "cell_type": "code",
   "execution_count": 5,
   "id": "61be4fb5-a09d-4276-9cd0-531cf24ce129",
   "metadata": {},
   "outputs": [
    {
     "name": "stderr",
     "output_type": "stream",
     "text": [
      "/home/opc/.pyenv/versions/3.11.9/lib/python3.11/site-packages/torch/nn/modules/module.py:1747: FutureWarning: `encoder_attention_mask` is deprecated and will be removed in version 4.55.0 for `BertSdpaSelfAttention.forward`.\n",
      "  return forward_call(*args, **kwargs)\n"
     ]
    }
   ],
   "source": [
    "# Retrieval Code\n",
    "import array\n",
    "import json\n",
    "\n",
    "with connection.cursor() as cursor:\n",
    "    embedding = list(encoder.encode(question))\n",
    "    vector = array.array(\"f\", embedding)\n",
    "\n",
    "    results = []\n",
    "\n",
    "    for (info, score, ) in cursor.execute(sql, vector=vector):\n",
    "        text_content = info.read()\n",
    "        results.append((score, json.loads(text_content)))\n"
   ]
  },
  {
   "cell_type": "code",
   "execution_count": 6,
   "id": "16244f81-88c0-425c-bdc4-dcdd6ef0c6d1",
   "metadata": {},
   "outputs": [
    {
     "name": "stdout",
     "output_type": "stream",
     "text": [
      "[(0.3420591558253262,\n",
      "  {'text': 'faq | What are Always Free services?\\n'\n",
      "           '\\n'\n",
      "           'Always Free services are part of Oracle Cloud Free Tier. Always '\n",
      "           'Free services are available for an unlimited time. Some '\n",
      "           'limitations apply. As new Always Free services become available, '\n",
      "           'you will automatically be able to use those as well.\\n'\n",
      "           '\\n'\n",
      "           'The following services are available as Always Free:\\n'\n",
      "           '\\n'\n",
      "           'AMD-based Compute\\n'\n",
      "           'Arm-based Ampere A1 Compute\\n'\n",
      "           'Block Volume\\n'\n",
      "           'Object Storage\\n'\n",
      "           'Archive Storage\\n'\n",
      "           'Flexible Load Balancer\\n'\n",
      "           'Flexible Network Load Balancer\\n'\n",
      "           'VPN Connect\\n'\n",
      "           'Autonomous Data Warehouse\\n'\n",
      "           'Autonomous Transaction Processing\\n'\n",
      "           'Autonomous JSON Database\\n'\n",
      "           'NoSQL Database (Phoenix Region only)\\n'\n",
      "           'APEX Application Development\\n'\n",
      "           'Resource Manager (Terraform)\\n'\n",
      "           'Monitoring\\n'\n",
      "           'Notifications\\n'\n",
      "           'Logging\\n'\n",
      "           'Application Performance Monitoring\\n'\n",
      "           'Service Connector Hub\\n'\n",
      "           'Vault\\n'\n",
      "           'Bastions\\n'\n",
      "           'Security Advisor\\n'\n",
      "           'Virtual Cloud Networks\\n'\n",
      "           'Site-to-Site VPN\\n'\n",
      "           'Content Management Starter Edition\\n'\n",
      "           'Email Delivery',\n",
      "   'path': 'faq'}),\n",
      " (0.4832668967515332,\n",
      "  {'text': 'faq | Are Always Free services available for paid accounts?\\n'\n",
      "           '\\n'\n",
      "           'Yes, for paid accounts using universal credit pricing.',\n",
      "   'path': 'faq'}),\n",
      " (0.4878003444612127,\n",
      "  {'text': 'faq | Could you elaborate on the concept of Always Free resources '\n",
      "           'in Oracle Cloud Infrastructure, and how can users leverage them '\n",
      "           'for various use cases while staying within the specified '\n",
      "           'limitations?\\n'\n",
      "           '\\n'\n",
      "           'Always Free resources in Oracle Cloud Infrastructure are services '\n",
      "           'and resources that can be used without incurring charges, subject '\n",
      "           'to certain usage limitations. Users can leverage these resources '\n",
      "           'for development, testing, small-scale applications, and learning '\n",
      "           'purposes, all while adhering to the restrictions outlined in the '\n",
      "           'terms and conditions.',\n",
      "   'path': 'faq'})]\n"
     ]
    }
   ],
   "source": [
    "# Check results\n",
    "import pprint\n",
    "pprint.pp(results)\n"
   ]
  },
  {
   "cell_type": "code",
   "execution_count": 7,
   "id": "6505e6c6-fd34-47de-b17a-4b535a6957ea",
   "metadata": {},
   "outputs": [
    {
     "name": "stderr",
     "output_type": "stream",
     "text": [
      "You are using the default legacy behaviour of the <class 'transformers.models.llama.tokenization_llama_fast.LlamaTokenizerFast'>. This is expected, and simply means that the `legacy` (previous) behavior will be used so nothing changes for you. If you want to use the new behaviour, set `legacy=False`. This should only be set if you understand what it means, and thoroughly read the reason why this was added as explained in https://github.com/huggingface/transformers/pull/24565 - if you loaded a llama tokenizer from a GGUF file you can ignore this message.\n"
     ]
    }
   ],
   "source": [
    "from transformers import LlamaTokenizerFast\n",
    "import sys\n",
    "\n",
    "tokenizer = LlamaTokenizerFast.from_pretrained(\"hf-internal-testing/llama-tokenizer\")\n",
    "tokenizer.model_max_length = sys.maxsize\n",
    "\n",
    "def truncate_string(string, max_tokens):\n",
    "    # Tokenize the text and count the tokens\n",
    "    tokens = tokenizer.encode(string, add_special_tokens=True)\n",
    "    \n",
    "    # Truncate the tokens to a maximum length\n",
    "    truncated_tokens = tokens[:max_tokens]\n",
    "    \n",
    "    # Transform the tokens back to text\n",
    "    truncated_text = tokenizer.decode(truncated_tokens)\n",
    "    \n",
    "    return truncated_text\n"
   ]
  },
  {
   "cell_type": "code",
   "execution_count": 8,
   "id": "a2c995a3-04e0-4410-8351-27fb0ffc88c6",
   "metadata": {},
   "outputs": [],
   "source": [
    "import os\n",
    "\n",
    "def loadFAQs(directory_path):\n",
    "    faqs = {}\n",
    "\n",
    "    for filename in os.listdir(directory_path):\n",
    "        if filename.endswith(\".txt\"):  # assuming FAQs are in .txt files\n",
    "            file_path = os.path.join(directory_path, filename)\n",
    "\n",
    "            with open(file_path) as f:\n",
    "                raw_faq = f.read()\n",
    "\n",
    "            filename_without_ext = os.path.splitext(filename)[0]  # remove .txt extension\n",
    "            faqs[filename_without_ext] = [text.strip() for text in raw_faq.split('=====')]\n",
    "\n",
    "    return faqs\n",
    "\n",
    "faqs = loadFAQs('./txt-docs')\n",
    "\n",
    "docs = [{'text': filename + ' | ' + section, 'path': filename}\n",
    "        for filename, sections in faqs.items() for section in sections]\n"
   ]
  },
  {
   "cell_type": "code",
   "execution_count": 9,
   "id": "246ade18-99b5-4ff2-84b6-faa03e63bc05",
   "metadata": {},
   "outputs": [],
   "source": [
    "# Transform docs into a string array using the \"payload\" key\n",
    "docs_as_one_string = \"\\n=======\\n\".join([doc[\"text\"] for doc in docs])\n",
    "\n",
    "docs_truncated = truncate_string(docs_as_one_string, 1000)\n"
   ]
  },
  {
   "cell_type": "code",
   "execution_count": 10,
   "id": "376c130c-8c21-4d1d-97ab-fe7a430b529a",
   "metadata": {},
   "outputs": [],
   "source": [
    "# Create the LLM Prompt\n",
    "prompt = f\"\"\"\\\n",
    "\n",
    "<s>[INST] <<SYS>>\n",
    "You are a helpful assistant named Oracle chatbot.\n",
    "USE ONLY the sources below and ABSOLUTELY IGNORE any previous knowledge.\n",
    "Use Markdown if appropriate.\n",
    "Assume the customer is highly technical.\n",
    "<</SYS>> [/INST]\n",
    "\n",
    "[INST]\n",
    "Respond to PRECISELY to this question: \"{question}.\", USING ONLY the following information and IGNORING ANY PREVIOUS KNOWLEDGE.\n",
    "\n",
    "Include code snippets and commands where necessary.\n",
    "\n",
    "NEVER mention the sources, always respond as if you have that knowledge yourself. Do NOT provide warnings or disclaimers.\n",
    "\n",
    "=====\n",
    "Sources: {docs_truncated}\n",
    "=====\n",
    "\n",
    "Answer (Three paragraphs, maximum 50 words each, 90% spartan):\n",
    "[/INST]\n",
    "\"\"\"\n"
   ]
  },
  {
   "cell_type": "code",
   "execution_count": 11,
   "id": "faa9c604-2f7a-444a-85ac-1dc96c454204",
   "metadata": {},
   "outputs": [],
   "source": [
    "import oci\n",
    "from LoadProperties import LoadProperties\n",
    "\n",
    "# Setup basic variables\n",
    "properties = LoadProperties()\n",
    "\n",
    "# Use Instance Principals for Authentication\n",
    "signer = oci.auth.signers.InstancePrincipalsSecurityTokenSigner()\n",
    "\n",
    "generative_ai_inference_client = oci.generative_ai_inference.GenerativeAiInferenceClient(\n",
    "    config={},\n",
    "    signer=signer,\n",
    "    service_endpoint=properties.getEndpoint(),\n",
    "    retry_strategy=oci.retry.NoneRetryStrategy(),\n",
    "    timeout=(10, 240)\n",
    ")\n",
    "\n",
    "chat_detail = oci.generative_ai_inference.models.ChatDetails()\n",
    "chat_request = oci.generative_ai_inference.models.CohereChatRequest()\n",
    "chat_request.message = prompt\n",
    "chat_request.max_tokens = 1000\n",
    "chat_request.temperature = 0.0\n",
    "chat_request.frequency_penalty = 0\n",
    "chat_request.top_p = 0.75\n",
    "chat_request.top_k = 0\n",
    "\n",
    "chat_detail.serving_mode = oci.generative_ai_inference.models.OnDemandServingMode(\n",
    "    model_id=properties.getModelName()\n",
    ")\n",
    "chat_detail.chat_request = chat_request\n",
    "chat_detail.compartment_id = properties.getCompartment()\n",
    "\n",
    "chat_response = generative_ai_inference_client.chat(chat_detail)\n"
   ]
  },
  {
   "cell_type": "code",
   "execution_count": 12,
   "id": "4c9b9e84-4af8-4927-96de-c66adce38569",
   "metadata": {},
   "outputs": [
    {
     "name": "stdout",
     "output_type": "stream",
     "text": [
      "('Always Free is a program within Oracle Cloud Free Tier, offering a range of '\n",
      " 'services with no time limit. These services are accessible to all, from '\n",
      " 'developers to students, and include AMD-based Compute, Arm-based Ampere A1 '\n",
      " 'Compute, Block Volume, Object Storage, and Archive. \\n'\n",
      " '\\n'\n",
      " 'The Always Free program is designed to provide an opportunity to explore and '\n",
      " \"build in the cloud without any cost. It's a great way to learn and test \"\n",
      " 'applications, with the added benefit of being able to use new Always Free '\n",
      " 'services as they become available. \\n'\n",
      " '\\n'\n",
      " 'One key advantage is the unlimited time frame, allowing users to utilize '\n",
      " 'these services without the pressure of a time limit, unlike the Free Trial '\n",
      " 'which has a 30-day cap.')\n"
     ]
    }
   ],
   "source": [
    "pprint.pp(\n",
    "    chat_response.data.chat_response.chat_history[1].message\n",
    ")\n"
   ]
  },
  {
   "cell_type": "code",
   "execution_count": null,
   "id": "c07434ab-13f8-4522-bd2e-2c61e01fa1f0",
   "metadata": {},
   "outputs": [],
   "source": []
  }
 ],
 "metadata": {
  "kernelspec": {
   "display_name": "Python 3 (ipykernel)",
   "language": "python",
   "name": "python3"
  },
  "language_info": {
   "codemirror_mode": {
    "name": "ipython",
    "version": 3
   },
   "file_extension": ".py",
   "mimetype": "text/x-python",
   "name": "python",
   "nbconvert_exporter": "python",
   "pygments_lexer": "ipython3",
   "version": "3.11.9"
  }
 },
 "nbformat": 4,
 "nbformat_minor": 5
}
